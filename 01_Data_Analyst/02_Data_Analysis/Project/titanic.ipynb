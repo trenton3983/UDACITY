{
 "cells": [
  {
   "cell_type": "markdown",
   "metadata": {},
   "source": [
    "<a id='Top of document'></a>"
   ]
  },
  {
   "cell_type": "markdown",
   "metadata": {},
   "source": [
    "# Titanic Disaster: Survivability Parameters"
   ]
  },
  {
   "cell_type": "code",
   "execution_count": null,
   "metadata": {
    "collapsed": false,
    "jupyter": {
     "outputs_hidden": false
    }
   },
   "outputs": [],
   "source": [
    "import pandas as pd\n",
    "import matplotlib.pyplot as plt\n",
    "import numpy as np\n",
    "import seaborn as sns\n",
    "import os\n",
    "import seaborn as sns\n",
    "from statsmodels.graphics.mosaicplot import mosaic\n",
    "from sklearn.datasets import fetch_openml\n",
    "import statsmodels.formula.api as sm"
   ]
  },
  {
   "cell_type": "code",
   "execution_count": null,
   "metadata": {},
   "outputs": [],
   "source": [
    "pd.set_option('display.max_columns', 700)\n",
    "pd.set_option('display.max_rows', 400)\n",
    "pd.set_option('display.min_rows', 20)\n",
    "pd.set_option('display.expand_frame_repr', True)"
   ]
  },
  {
   "cell_type": "code",
   "execution_count": null,
   "metadata": {},
   "outputs": [],
   "source": [
    "titanic_df = sns.load_dataset('titanic')\n",
    "\n",
    "# Capitalize the column names\n",
    "titanic_df.columns = titanic_df.columns.str.capitalize()\n",
    "\n",
    "# Select Specific Columns\n",
    "titanic_df = titanic_df[['Survived', 'Pclass', 'Sex', 'Age', 'Parch', 'Fare', 'Embarked']]"
   ]
  },
  {
   "cell_type": "markdown",
   "metadata": {},
   "source": [
    "## Problem Statement"
   ]
  },
  {
   "cell_type": "markdown",
   "metadata": {},
   "source": [
    "* [Dataset Description](https://www.kaggle.com/c/titanic/data)\n",
    "* Using data analysis methods, predict which metric or combination of metrics best predict passenger survivability.\n",
    "* A combination of data visualizations and statistics will be used to determine the most significant predictors of survivability."
   ]
  },
  {
   "cell_type": "markdown",
   "metadata": {},
   "source": [
    "[Back to top](#Top of document)\n",
    "<a id='dataexp'></a>"
   ]
  },
  {
   "cell_type": "markdown",
   "metadata": {},
   "source": [
    "## Dataset Exploration"
   ]
  },
  {
   "cell_type": "code",
   "execution_count": null,
   "metadata": {
    "collapsed": false,
    "jupyter": {
     "outputs_hidden": false
    }
   },
   "outputs": [],
   "source": [
    "# Head of the dataset\n",
    "titanic_df.head()"
   ]
  },
  {
   "cell_type": "code",
   "execution_count": null,
   "metadata": {
    "collapsed": false,
    "jupyter": {
     "outputs_hidden": false
    }
   },
   "outputs": [],
   "source": [
    "# Tail of the dataset\n",
    "titanic_df.tail()"
   ]
  },
  {
   "cell_type": "code",
   "execution_count": null,
   "metadata": {
    "collapsed": false,
    "jupyter": {
     "outputs_hidden": false
    }
   },
   "outputs": [],
   "source": [
    "# Determine which parameters have missing values\n",
    "titanic_df.info()"
   ]
  },
  {
   "cell_type": "markdown",
   "metadata": {},
   "source": [
    "* Name, SibSp, Parch, Ticket and Fare will not be used\n",
    "* Cabin will not be used because less the 25% of passengers have cabin data\n",
    "* Missing Age data will be filled in the [Age](#age) section\n",
    "* Missing Embarked data will be ignored"
   ]
  },
  {
   "cell_type": "code",
   "execution_count": null,
   "metadata": {},
   "outputs": [],
   "source": [
    "# Give gender a numeric value; 0 = male, 1 = female\n",
    "titanic_df['Sex_Numeric'] = (titanic_df['Sex'].astype('category')).cat.codes"
   ]
  },
  {
   "cell_type": "code",
   "execution_count": null,
   "metadata": {
    "collapsed": false,
    "jupyter": {
     "outputs_hidden": false
    }
   },
   "outputs": [],
   "source": [
    "grouped_survived = titanic_df.groupby(['Sex_Numeric', 'Pclass', 'Age', 'Embarked'], observed=False)"
   ]
  },
  {
   "cell_type": "code",
   "execution_count": null,
   "metadata": {
    "collapsed": false,
    "jupyter": {
     "outputs_hidden": false
    },
    "scrolled": true
   },
   "outputs": [],
   "source": [
    "grouped_survived['Survived'].describe()"
   ]
  },
  {
   "cell_type": "code",
   "execution_count": null,
   "metadata": {
    "collapsed": false,
    "jupyter": {
     "outputs_hidden": false
    }
   },
   "outputs": [],
   "source": [
    "# Create Survival Label Column\n",
    "titanic_df['Survival'] = titanic_df.Survived.map({0 : 'Died', 1 : 'Survived'})\n",
    "titanic_df.Survival.head()"
   ]
  },
  {
   "cell_type": "code",
   "execution_count": null,
   "metadata": {
    "collapsed": false,
    "jupyter": {
     "outputs_hidden": false
    }
   },
   "outputs": [],
   "source": [
    "# Create Pclass Label Column\n",
    "titanic_df['Class'] = titanic_df.Pclass.map({1 : '1st Class', 2 : '2nd Class', 3 : '3rd Class'})\n",
    "titanic_df.Class.head()"
   ]
  },
  {
   "cell_type": "code",
   "execution_count": null,
   "metadata": {
    "collapsed": false,
    "jupyter": {
     "outputs_hidden": false
    }
   },
   "outputs": [],
   "source": [
    "# Create Sex Label Column\n",
    "titanic_df['Gender'] = titanic_df.Sex.map({'female' : 'Female', 'male' : 'Male'})\n",
    "titanic_df.Gender.head()"
   ]
  },
  {
   "cell_type": "code",
   "execution_count": null,
   "metadata": {
    "collapsed": false,
    "jupyter": {
     "outputs_hidden": false
    }
   },
   "outputs": [],
   "source": [
    "# Replace blanks with NaN\n",
    "titanic_df['Embarked'].replace(r'\\s+', np.nan, regex=True).head()"
   ]
  },
  {
   "cell_type": "code",
   "execution_count": null,
   "metadata": {
    "collapsed": false,
    "jupyter": {
     "outputs_hidden": false
    }
   },
   "outputs": [],
   "source": [
    "# Create Port Label Column\n",
    "titanic_df['Ports'] = titanic_df.Embarked.map({'S' : 'Southhampton', 'C' : 'Cherbourg', 'Q' : 'Queenstown', np.nan : 'unknown'})\n",
    "titanic_df.Ports.head()"
   ]
  },
  {
   "cell_type": "markdown",
   "metadata": {},
   "source": [
    "## Dataset Plots"
   ]
  },
  {
   "cell_type": "code",
   "execution_count": null,
   "metadata": {
    "collapsed": false,
    "jupyter": {
     "outputs_hidden": false
    }
   },
   "outputs": [],
   "source": [
    "# Mosaic Chart\n",
    "plt.rc('figure', figsize=(17, 5))\n",
    "\n",
    "mosaic(titanic_df, ['Survival', 'Class', 'Gender'], axes_label=False, title='Survival: Red=Died, Green=Survived')\n",
    "plt.xlabel('Gender: Male & Female')\n",
    "plt.ylabel('Passenger Class: 1st, 2nd & 3rd Class')\n",
    "plt.show()"
   ]
  },
  {
   "cell_type": "code",
   "execution_count": null,
   "metadata": {},
   "outputs": [],
   "source": [
    "cols = ['Survival', 'Class', 'Gender', 'Ports']\n",
    "\n",
    "fig, axes = plt.subplots(nrows=3, ncols=2, figsize=(15, 15))\n",
    "\n",
    "axes = axes.flat\n",
    "\n",
    "for col, ax in zip(cols, axes):\n",
    "\n",
    "    titanic_df[col].value_counts().plot(kind='bar', title=col, ax=ax, rot=0, ylabel='Count')\n",
    "\n",
    "titanic_df['Age'].plot(kind='hist', ax=axes[4], ylabel='Count', xlabel='Age Categories by Decade (years)', ec='k', title='Age')\n",
    "\n",
    "fig.delaxes(axes[5])"
   ]
  },
  {
   "cell_type": "markdown",
   "metadata": {},
   "source": [
    "## Age"
   ]
  },
  {
   "cell_type": "code",
   "execution_count": null,
   "metadata": {
    "collapsed": false,
    "jupyter": {
     "outputs_hidden": false
    }
   },
   "outputs": [],
   "source": [
    "# Passangers with no age\n",
    "ageisnull = titanic_df[titanic_df['Age'].isnull()]\n",
    "ageisnull.head()"
   ]
  },
  {
   "cell_type": "code",
   "execution_count": null,
   "metadata": {
    "collapsed": false,
    "jupyter": {
     "outputs_hidden": false
    }
   },
   "outputs": [],
   "source": [
    "print('Total passengers with no age: ', len(ageisnull))"
   ]
  },
  {
   "cell_type": "markdown",
   "metadata": {},
   "source": [
    "In the [Dataset Exploration](#dataexp) section, it was determined there were only 714 of 891 valid age related records.  We can see there are 177 NaN entries for Age."
   ]
  },
  {
   "cell_type": "code",
   "execution_count": null,
   "metadata": {
    "collapsed": false,
    "jupyter": {
     "outputs_hidden": false
    }
   },
   "outputs": [],
   "source": [
    "# Mean age\n",
    "titanic_df['Age'].mean()"
   ]
  },
  {
   "cell_type": "code",
   "execution_count": null,
   "metadata": {
    "collapsed": false,
    "jupyter": {
     "outputs_hidden": false
    }
   },
   "outputs": [],
   "source": [
    "# Mean age by Sex\n",
    "(titanic_df.groupby(['Gender']))['Age'].mean()"
   ]
  },
  {
   "cell_type": "code",
   "execution_count": null,
   "metadata": {
    "collapsed": false,
    "jupyter": {
     "outputs_hidden": false
    }
   },
   "outputs": [],
   "source": [
    "# Mean age by Pclass and Sex\n",
    "(titanic_df.groupby(['Class', 'Gender']))['Age'].mean()"
   ]
  },
  {
   "cell_type": "code",
   "execution_count": null,
   "metadata": {
    "collapsed": false,
    "jupyter": {
     "outputs_hidden": false
    }
   },
   "outputs": [],
   "source": [
    "# Mean age by Pclass, Survived and Sex\n",
    "(titanic_df.groupby(['Class', 'Survival', 'Gender']))['Age'].mean()"
   ]
  },
  {
   "cell_type": "code",
   "execution_count": null,
   "metadata": {
    "collapsed": false,
    "jupyter": {
     "outputs_hidden": false
    }
   },
   "outputs": [],
   "source": [
    "# General statistics of Age by Class, Survival and Gender\n",
    "(titanic_df.groupby(['Class', 'Survival', 'Gender']))['Age'].describe()"
   ]
  },
  {
   "cell_type": "code",
   "execution_count": null,
   "metadata": {
    "collapsed": false,
    "jupyter": {
     "outputs_hidden": false
    }
   },
   "outputs": [],
   "source": [
    "# Survival count by Sex, Pclass and Age < 20\n",
    "sex = titanic_df['Gender']\n",
    "survived = titanic_df['Survival']\n",
    "pclass = titanic_df['Class']\n",
    "age_youth = titanic_df['Age'] < 20\n",
    "\n",
    "pd.crosstab([sex, pclass, age_youth], survived)"
   ]
  },
  {
   "cell_type": "markdown",
   "metadata": {},
   "source": [
    "A decision is required to determine the best method of dealing with NaN values.\n",
    "* The NaN values can be ignored\n",
    "* NaN can be filled in with a value, typically a mean\n",
    "    * Comparing the counts for various groups leads to the conclusion, simply using the overall mean will heavily weigh one specific age and skew any age dependant results.\n",
    "    * For the remainder of this analytic process, the NaN values data will be replaced with a mean age based upon Pclass, Survived and Sex."
   ]
  },
  {
   "cell_type": "code",
   "execution_count": null,
   "metadata": {
    "collapsed": false,
    "jupyter": {
     "outputs_hidden": false
    }
   },
   "outputs": [],
   "source": [
    "# Maintain Age and create Age_Fill (populate missing ages)\n",
    "titanic_df['Age_Fill'] = titanic_df['Age']"
   ]
  },
  {
   "cell_type": "code",
   "execution_count": null,
   "metadata": {},
   "outputs": [],
   "source": [
    "titanic_df['Age_Fill'] = titanic_df['Age_Fill'] \\\n",
    "    .groupby([titanic_df['Pclass'], titanic_df['Survived'], titanic_df['Sex']], observed=False) \\\n",
    "    .transform(lambda x: x.fillna(x.mean())).to_frame()"
   ]
  },
  {
   "cell_type": "markdown",
   "metadata": {},
   "source": [
    "Create a new category called Age_Fill and fill NaN with an age based upon the mean of Pclass, Survived and Sex."
   ]
  },
  {
   "cell_type": "code",
   "execution_count": null,
   "metadata": {
    "collapsed": false,
    "jupyter": {
     "outputs_hidden": false
    }
   },
   "outputs": [],
   "source": [
    "# Example of Age_Fill - #5, 17 & 19\n",
    "print(titanic_df['Age'].head(20))\n",
    "print(titanic_df['Age_Fill'].head(20))"
   ]
  },
  {
   "cell_type": "markdown",
   "metadata": {},
   "source": [
    "## Age Histogram Comparison"
   ]
  },
  {
   "cell_type": "code",
   "execution_count": null,
   "metadata": {
    "collapsed": false,
    "jupyter": {
     "outputs_hidden": false
    }
   },
   "outputs": [],
   "source": [
    "# Setup a figue of plots\n",
    "df1 = titanic_df[titanic_df['Survived'] == 0]['Age']\n",
    "df2 = titanic_df[titanic_df['Survived'] == 1]['Age']\n",
    "df3 = titanic_df[titanic_df['Survived'] == 0]['Age_Fill']\n",
    "df4 = titanic_df[titanic_df['Survived'] == 1]['Age_Fill']\n",
    "\n",
    "max_age = max(titanic_df['Age_Fill'])\n",
    "\n",
    "fig, (ax1, ax2) = plt.subplots(nrows=2, ncols=1, figsize=(10, 10))\n",
    "\n",
    "ax1.hist([df1, df2], \n",
    "             bins=8, \n",
    "             range=(1, max_age), \n",
    "             stacked=True)\n",
    "\n",
    "ax1.legend(('Died', 'Survived'), loc='best')\n",
    "ax1.set_title('Survivors by Age Group (not filled)')\n",
    "ax1.set_ylabel('Count')\n",
    "\n",
    "\n",
    "ax2.hist([df3, df4], \n",
    "             bins=8, \n",
    "             range=(1, max_age), \n",
    "             stacked=True)\n",
    "\n",
    "ax2.legend(('Died', 'Survived'), loc='best')\n",
    "ax2.set_title('Survivors by Age Group (filled)')\n",
    "ax2.set_xlabel('Age')\n",
    "ax2.set_ylabel('Count')\n",
    "\n",
    "plt.show()"
   ]
  },
  {
   "cell_type": "code",
   "execution_count": null,
   "metadata": {
    "collapsed": false,
    "jupyter": {
     "outputs_hidden": false
    }
   },
   "outputs": [],
   "source": [
    "# Maximum age\n",
    "titanic_df['Age'].max()"
   ]
  },
  {
   "cell_type": "code",
   "execution_count": null,
   "metadata": {
    "collapsed": false,
    "jupyter": {
     "outputs_hidden": false
    }
   },
   "outputs": [],
   "source": [
    "# Create a new column that has all ages by bin category: 0-10:10, 10-20:20, 20-30:30, 30-40:40\n",
    "# 40-50:50, 50-60:60, 60-70:70, 70-80:80\n",
    "bins = [0, 10, 20, 30, 40, 50, 60, 70, 80]\n",
    "group_names = [10, 20, 30, 40, 50, 60, 70, 80]\n",
    "\n",
    "titanic_df['Age_Categories'] = pd.cut(titanic_df['Age_Fill'], bins, labels=group_names)\n",
    "\n",
    "titanic_df[['Age', 'Age_Fill', 'Age_Categories']].head()"
   ]
  },
  {
   "cell_type": "code",
   "execution_count": null,
   "metadata": {
    "collapsed": false,
    "jupyter": {
     "outputs_hidden": false
    }
   },
   "outputs": [],
   "source": [
    "titanic_df['Age_Categories'] = pd.to_numeric(titanic_df['Age_Categories'])"
   ]
  },
  {
   "cell_type": "markdown",
   "metadata": {},
   "source": [
    "An Age_Categories column has been inserted into the dataframe to simplify certain visualizations and calculations, as there are to many individual ages to easily draw conclusions or see patterns."
   ]
  },
  {
   "cell_type": "code",
   "execution_count": null,
   "metadata": {
    "collapsed": false,
    "jupyter": {
     "outputs_hidden": false
    }
   },
   "outputs": [],
   "source": [
    "# Survival Count by Age_Categories\n",
    "titanic_df.groupby('Survival')[['Age_Categories']].count()"
   ]
  },
  {
   "cell_type": "markdown",
   "metadata": {},
   "source": [
    "[Back to top](#Top of document)\n",
    "<a id='age_mosaic'></a>"
   ]
  },
  {
   "cell_type": "markdown",
   "metadata": {},
   "source": [
    "## Age Mosaic"
   ]
  },
  {
   "cell_type": "code",
   "execution_count": null,
   "metadata": {
    "collapsed": false,
    "jupyter": {
     "outputs_hidden": false
    },
    "scrolled": true
   },
   "outputs": [],
   "source": [
    "# Mosaic Plot\n",
    "plt.rc('figure', figsize=(18, 6)) # figure size\n",
    "\n",
    "mosaic(titanic_df,['Survival', 'Class', 'Age_Categories'], axes_label=False, title='Survival: Red=Died, Green=Survived')\n",
    "plt.xlabel('Age Categories by Decades (years)')\n",
    "plt.ylabel('Passenger Class: 1st, 2nd & 3rd Class')\n",
    "plt.show()"
   ]
  },
  {
   "cell_type": "code",
   "execution_count": null,
   "metadata": {
    "collapsed": false,
    "jupyter": {
     "outputs_hidden": false
    },
    "scrolled": true
   },
   "outputs": [],
   "source": [
    "# Mosaic Plot\n",
    "mosaic(titanic_df,['Survival', 'Gender', 'Age_Categories'], axes_label=False, title='Survival: Red=Died, Green=Survived')\n",
    "plt.xlabel('Age Categories by Decades (years)')\n",
    "plt.ylabel('Gender: Male & Female')\n",
    "plt.show()"
   ]
  },
  {
   "cell_type": "markdown",
   "metadata": {},
   "source": [
    "[Back to top](#Top of document)\n",
    "<a id='pclass'></a>"
   ]
  },
  {
   "cell_type": "markdown",
   "metadata": {},
   "source": [
    "## Pclass"
   ]
  },
  {
   "cell_type": "code",
   "execution_count": null,
   "metadata": {
    "collapsed": false,
    "jupyter": {
     "outputs_hidden": false
    }
   },
   "outputs": [],
   "source": [
    "# Survival count by Pclass\n",
    "pclass_ct = titanic_df.groupby('Class')['Survival'].value_counts().unstack()\n",
    "pclass_ct"
   ]
  },
  {
   "cell_type": "code",
   "execution_count": null,
   "metadata": {
    "collapsed": false,
    "jupyter": {
     "outputs_hidden": false
    }
   },
   "outputs": [],
   "source": [
    "# Survival Rate\n",
    "titanic_df.groupby('Class')['Survival'].value_counts(normalize = True).unstack()"
   ]
  },
  {
   "cell_type": "code",
   "execution_count": null,
   "metadata": {
    "collapsed": false,
    "jupyter": {
     "outputs_hidden": false
    }
   },
   "outputs": [],
   "source": [
    "# Setup a figure of plots\n",
    "pclass_ct.plot(kind='bar', stacked=True, figsize=(10, 5))\n",
    "\n",
    "plt.legend(('Died', 'Survived'), loc='best')\n",
    "plt.title('Survivors by Pclass')\n",
    "plt.xlabel('Pclass')\n",
    "plt.ylabel('Count')\n",
    "plt.xticks(rotation=0)\n",
    "\n",
    "plt.show()"
   ]
  },
  {
   "cell_type": "markdown",
   "metadata": {},
   "source": [
    "Pclass is not a strong indicator for surviving, however 3rd Class is a stong indicator for dying."
   ]
  },
  {
   "cell_type": "markdown",
   "metadata": {},
   "source": [
    "## Sex"
   ]
  },
  {
   "cell_type": "code",
   "execution_count": null,
   "metadata": {
    "collapsed": false,
    "jupyter": {
     "outputs_hidden": false
    }
   },
   "outputs": [],
   "source": [
    "# Survival count by sex\n",
    "sex_ct = titanic_df.groupby('Gender')['Survival'].value_counts().unstack()\n",
    "sex_ct"
   ]
  },
  {
   "cell_type": "code",
   "execution_count": null,
   "metadata": {
    "collapsed": false,
    "jupyter": {
     "outputs_hidden": false
    }
   },
   "outputs": [],
   "source": [
    "# Survival rate by sex\n",
    "titanic_df.groupby('Gender')['Survival'].value_counts(normalize = True).unstack()"
   ]
  },
  {
   "cell_type": "code",
   "execution_count": null,
   "metadata": {
    "collapsed": false,
    "jupyter": {
     "outputs_hidden": false
    }
   },
   "outputs": [],
   "source": [
    "sex_ct.plot(kind='bar', stacked=True, figsize=(10, 5))\n",
    "\n",
    "plt.legend(('Died', 'Survived'), loc='best')\n",
    "plt.title('Survivors by Gender')\n",
    "plt.xlabel('Gender')\n",
    "plt.ylabel('Count')\n",
    "plt.xticks(rotation=0)\n",
    "\n",
    "plt.show()"
   ]
  },
  {
   "cell_type": "markdown",
   "metadata": {},
   "source": [
    "Gender is a strong indicator for survivability, with a significant portion of females (74%) surviving and males 81% dying."
   ]
  },
  {
   "cell_type": "markdown",
   "metadata": {},
   "source": [
    "## Embarked"
   ]
  },
  {
   "cell_type": "code",
   "execution_count": null,
   "metadata": {
    "collapsed": false,
    "jupyter": {
     "outputs_hidden": false
    }
   },
   "outputs": [],
   "source": [
    "# Survival count by Embarked\n",
    "\n",
    "embarked_ct = titanic_df.groupby('Ports')['Survival'].value_counts().unstack()\n",
    "embarked_ct"
   ]
  },
  {
   "cell_type": "code",
   "execution_count": null,
   "metadata": {
    "collapsed": false,
    "jupyter": {
     "outputs_hidden": false
    }
   },
   "outputs": [],
   "source": [
    "# Survival rate by embarked\n",
    "titanic_df.groupby('Ports')['Survival'].value_counts(normalize = True).unstack()"
   ]
  },
  {
   "cell_type": "code",
   "execution_count": null,
   "metadata": {
    "collapsed": false,
    "jupyter": {
     "outputs_hidden": false
    }
   },
   "outputs": [],
   "source": [
    "plt.rc('figure', figsize=(10, 5))\n",
    "\n",
    "embarked_ct.plot(kind='bar', stacked=True, figsize=(10, 5), rot=0)\n",
    "\n",
    "plt.legend(('Died', 'Survived'), loc='best')\n",
    "plt.title('Survivors by Embarked')\n",
    "plt.xlabel('Port of Embarkation')\n",
    "plt.ylabel('Count')\n",
    "\n",
    "plt.show()"
   ]
  },
  {
   "cell_type": "markdown",
   "metadata": {},
   "source": [
    "## Statistics"
   ]
  },
  {
   "cell_type": "code",
   "execution_count": null,
   "metadata": {
    "collapsed": false,
    "jupyter": {
     "outputs_hidden": false
    }
   },
   "outputs": [],
   "source": [
    "# Survival count by Sex, Embarked_Numeric, Pclass and Age Category\n",
    "embarked = titanic_df['Ports']\n",
    "sex = titanic_df['Gender']\n",
    "survived = titanic_df['Survival']\n",
    "pclass = titanic_df['Class']\n",
    "age_cat = titanic_df['Age_Categories']\n",
    "pd.crosstab([sex, embarked, pclass], [survived, age_cat])"
   ]
  },
  {
   "cell_type": "markdown",
   "metadata": {},
   "source": [
    "### OLS Regression Models"
   ]
  },
  {
   "cell_type": "code",
   "execution_count": null,
   "metadata": {
    "collapsed": false,
    "jupyter": {
     "outputs_hidden": false
    }
   },
   "outputs": [],
   "source": [
    "# OLS modeling for Survived and Gender\n",
    "result_1 = sm.ols(formula='Survived ~ Gender', data=titanic_df).fit()\n",
    "result_1.summary()"
   ]
  },
  {
   "cell_type": "code",
   "execution_count": null,
   "metadata": {
    "collapsed": false,
    "jupyter": {
     "outputs_hidden": false
    }
   },
   "outputs": [],
   "source": [
    "# OLS modeling for Survived and Class\n",
    "result_2 = sm.ols(formula='Survived ~ Class', data=titanic_df).fit()\n",
    "result_2.summary()"
   ]
  },
  {
   "cell_type": "code",
   "execution_count": null,
   "metadata": {
    "collapsed": false,
    "jupyter": {
     "outputs_hidden": false
    }
   },
   "outputs": [],
   "source": [
    "# OLS modeling for Survived and Ports\n",
    "result_3 = sm.ols(formula='Survived ~ Ports', data=titanic_df).fit()\n",
    "result_3.summary()"
   ]
  },
  {
   "cell_type": "code",
   "execution_count": null,
   "metadata": {
    "collapsed": false,
    "jupyter": {
     "outputs_hidden": false
    }
   },
   "outputs": [],
   "source": [
    "# OLS modeling for Survived and Age_Fill\n",
    "result_4 = sm.ols(formula='Survived ~ Age_Fill', data=titanic_df).fit()\n",
    "result_4.summary()"
   ]
  },
  {
   "cell_type": "code",
   "execution_count": null,
   "metadata": {
    "collapsed": false,
    "jupyter": {
     "outputs_hidden": false
    }
   },
   "outputs": [],
   "source": [
    "# OLS modeling for Survived and Gender + Class + Age_Fill + Ports\n",
    "result_5 = sm.ols(formula='Survived ~ Gender + Class + Age_Fill + Ports', data=titanic_df).fit()\n",
    "result_5.summary()"
   ]
  },
  {
   "cell_type": "code",
   "execution_count": null,
   "metadata": {
    "collapsed": false,
    "jupyter": {
     "outputs_hidden": false
    }
   },
   "outputs": [],
   "source": [
    "# OLS modeling for Survived and Gender + Class + Age_Fill\n",
    "result_6 = sm.ols(formula='Survived ~ Gender + Class + Age_Fill', data=titanic_df).fit()\n",
    "result_6.summary()"
   ]
  },
  {
   "cell_type": "code",
   "execution_count": null,
   "metadata": {
    "collapsed": false,
    "jupyter": {
     "outputs_hidden": false
    }
   },
   "outputs": [],
   "source": [
    "# Dataframe for statistical data\n",
    "comp_index_4 = 'Gender + Class + Age_Fill + Ports'\n",
    "comp_index_3 = 'Gender + Class + Age_Fill'\n",
    "\n",
    "statistics_df = pd.DataFrame(\n",
    "    data=[[result_1.rsquared_adj, np.sqrt(result_1.rsquared_adj)],\n",
    "          [result_2.rsquared_adj, np.sqrt(result_2.rsquared_adj)],\n",
    "          [result_3.rsquared_adj, np.sqrt(result_3.rsquared_adj)],\n",
    "          [result_4.rsquared_adj, np.sqrt(result_4.rsquared_adj)],\n",
    "          [result_5.rsquared_adj, np.sqrt(result_5.rsquared_adj)],\n",
    "          [result_6.rsquared_adj, np.sqrt(result_6.rsquared_adj)]],\n",
    "    index=['Gender', 'Class', 'Ports', 'Age_Fill', comp_index_4, comp_index_3],\n",
    "    columns=['R-squared', 'Correlation to Survival']\n",
    ")\n",
    "\n",
    "statistics_df"
   ]
  },
  {
   "cell_type": "markdown",
   "metadata": {},
   "source": [
    "Ordinary least squares (OLS) regression modeling has been used to determine which metric or combination of metrics provides the best prediction of survival.  As can be determined by reviewing the coefficient of determination (R-squared), the individual models for Ports and Age_Fill indicate a large proportion of variance for survival.  Gender and a combination of metrics are better models.  The square root of R-squared equals the Pearson correlation coefficient of predicted to actual values; Gender is the single metric with the strongest correlation.  However, the combination of metrics, Gender + Class + Age_Fill + Ports, shows the strongest correlation to survival for the model used."
   ]
  }
 ],
 "metadata": {
  "kernelspec": {
   "display_name": "py312",
   "language": "python",
   "name": "py312"
  },
  "language_info": {
   "codemirror_mode": {
    "name": "ipython",
    "version": 3
   },
   "file_extension": ".py",
   "mimetype": "text/x-python",
   "name": "python",
   "nbconvert_exporter": "python",
   "pygments_lexer": "ipython3",
   "version": "3.12.0"
  }
 },
 "nbformat": 4,
 "nbformat_minor": 4
}
